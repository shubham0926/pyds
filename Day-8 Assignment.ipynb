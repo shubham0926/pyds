{
 "cells": [
  {
   "cell_type": "markdown",
   "metadata": {},
   "source": [
    "# A. Make a ndarray by using np.arange(120), reshape it into shape of (2,3,4,5) and do the following operation on this new ndarray:\n",
    "\n",
    "## 1. Access the value 91 using indexing\n",
    "## 2. obtain a range of value 35-39 from this ndarray\n",
    "## 3. Make another 1D array from this having values 0 and all multiples of 5\n",
    "## 4. obtain mean values on axis-3 elements."
   ]
  },
  {
   "cell_type": "code",
   "execution_count": null,
   "metadata": {},
   "outputs": [],
   "source": [
    "import numpy as np\n",
    "\n",
    "a = np.arange(120).reshape(2,3,4,5)\n",
    "\n",
    "print(a[1,1,2,1],\"\\n\\n\")\n",
    "\n",
    "print(a[0,1,3:],\"\\n\\n\")\n",
    "\n",
    "n= a[a % 5 == 0]\n",
    "print(n,\"\\n\\n\")\n",
    "\n",
    "print(\"Mean values of axis-3 elements:\")\n",
    "np.apply_along_axis(np.mean, axis=3, arr=a)"
   ]
  },
  {
   "cell_type": "markdown",
   "metadata": {},
   "source": [
    "# B. Make a numpy ndarray np.linspace(5,20,24), and reshape into shape of (4,6).\n",
    "\n",
    "## 1. Split and stack to make array of shape (4,4) such that it contain elements of first, second ,fourth and sixth column.\n",
    "## 2. Split and stack to make array of shape (2,2) such that it contain elements of first and fourth row and third and fifth column."
   ]
  },
  {
   "cell_type": "code",
   "execution_count": null,
   "metadata": {},
   "outputs": [],
   "source": [
    "B = np.linspace(5,20,24).reshape(4,6)\n",
    "[A0,A1,A2,A3,A4,A5] = np.split(B,[1,2,3,4,5],axis=1)\n",
    "\n",
    "print(\"\\nStacking of elements of first, second ,fourth and sixth column  to make a array of (4,4) \\n\",np.hstack((A0,A1,A3,A5)))\n",
    "\n",
    "[B0,B1,B2,B3] = np.split(B,[1,2,3],axis=0)\n",
    "\n",
    "[r1,r2,r3,r4] = np.vsplit(b,(1,2,3))\n",
    "\n",
    "[c1,c2,c3,c4,c5,c6] = np.hsplit(r1,(1,2,3,4,5))\n",
    "\n",
    "[d1,d2,d3,d4,d5,d6] = np.hsplit(r4,(1,2,3,4,5))\n",
    "\n",
    "print(\"\\nStacking of elements of first and fourth row and third and fifth column to make a array of (2,2) \\n\",np.array([c3,c5,d3,d5]).reshape(2,2))"
   ]
  },
  {
   "cell_type": "markdown",
   "metadata": {},
   "source": [
    "# C. Plot a function of log2 and straight line y = 0.5x - 1 using matplotlib and find out approximate value at which they intersect. Make sure you have legend in the figure naming the curve."
   ]
  },
  {
   "cell_type": "code",
   "execution_count": null,
   "metadata": {},
   "outputs": [],
   "source": [
    "from matplotlib import pyplot as plt\n",
    "\n",
    "x1 = np.linspace(-20,20)\n",
    "\n",
    "plt.plot(x1,x1*0.5 - 1,color='red' ,label=\"y=0.5x+1\")\n",
    "\n",
    "x2 = np.linspace(0.000001,30)\n",
    "\n",
    "plt.plot(x2,np.log2(x2),color='black' ,label=\"y=log2(x)\")\n",
    "\n",
    "plt.grid(True)\n",
    "\n",
    "plt.legend(loc=\"best\")\n",
    "\n",
    "plt.xlabel(\"x-label\") \n",
    "\n",
    "plt.ylabel(\"y-label\") \n",
    "\n",
    "plt.show()"
   ]
  }
 ],
 "metadata": {
  "kernelspec": {
   "display_name": "Python 3",
   "language": "python",
   "name": "python3"
  },
  "language_info": {
   "codemirror_mode": {
    "name": "ipython",
    "version": 3
   },
   "file_extension": ".py",
   "mimetype": "text/x-python",
   "name": "python",
   "nbconvert_exporter": "python",
   "pygments_lexer": "ipython3",
   "version": "3.7.6"
  }
 },
 "nbformat": 4,
 "nbformat_minor": 4
}
